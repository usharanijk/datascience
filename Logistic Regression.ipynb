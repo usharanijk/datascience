{
 "cells": [
  {
   "cell_type": "code",
   "execution_count": 4,
   "metadata": {},
   "outputs": [],
   "source": [
    "import numpy as np\n",
    "import pandas as pd\n",
    "import matplotlib.pyplot as plt\n",
    "import seaborn as sns"
   ]
  },
  {
   "cell_type": "code",
   "execution_count": 5,
   "metadata": {},
   "outputs": [],
   "source": [
    "fb=pd.read_csv(r\"C:\\Users\\kalyan\\Desktop\\Usha_DataScience\\Data sets\\Fiberbits.csv\")"
   ]
  },
  {
   "cell_type": "code",
   "execution_count": 6,
   "metadata": {},
   "outputs": [
    {
     "data": {
      "text/plain": [
       "(100000, 9)"
      ]
     },
     "execution_count": 6,
     "metadata": {},
     "output_type": "execute_result"
    }
   ],
   "source": [
    "fb.shape"
   ]
  },
  {
   "cell_type": "code",
   "execution_count": 7,
   "metadata": {},
   "outputs": [
    {
     "data": {
      "text/plain": [
       "Index(['active_cust', 'income', 'months_on_network', 'Num_complaints',\n",
       "       'number_plan_changes', 'relocated', 'monthly_bill',\n",
       "       'technical_issues_per_month', 'Speed_test_result'],\n",
       "      dtype='object')"
      ]
     },
     "execution_count": 7,
     "metadata": {},
     "output_type": "execute_result"
    }
   ],
   "source": [
    "fb.columns"
   ]
  },
  {
   "cell_type": "code",
   "execution_count": 8,
   "metadata": {},
   "outputs": [],
   "source": [
    "fb1=fb.drop_duplicates()"
   ]
  },
  {
   "cell_type": "code",
   "execution_count": 9,
   "metadata": {},
   "outputs": [
    {
     "data": {
      "text/plain": [
       "(98328, 9)"
      ]
     },
     "execution_count": 9,
     "metadata": {},
     "output_type": "execute_result"
    }
   ],
   "source": [
    "fb1.shape"
   ]
  },
  {
   "cell_type": "markdown",
   "metadata": {},
   "source": [
    "## 2- ways to build Logistic Regression...1-stats model 2.sklearn model\n",
    "## objective: We would like to predict who is going to leave the n/w\n"
   ]
  },
  {
   "cell_type": "code",
   "execution_count": 10,
   "metadata": {},
   "outputs": [
    {
     "data": {
      "text/plain": [
       "1    56816\n",
       "0    41512\n",
       "Name: active_cust, dtype: int64"
      ]
     },
     "execution_count": 10,
     "metadata": {},
     "output_type": "execute_result"
    }
   ],
   "source": [
    "fb1[\"active_cust\"].value_counts()#1-churn.0-non churn"
   ]
  },
  {
   "cell_type": "code",
   "execution_count": 10,
   "metadata": {},
   "outputs": [
    {
     "data": {
      "text/plain": [
       "57.78211699617606"
      ]
     },
     "execution_count": 10,
     "metadata": {},
     "output_type": "execute_result"
    }
   ],
   "source": [
    "fb1[\"active_cust\"].value_counts()[1]/len(fb1)*100#left customers %--event rate(churn rate)"
   ]
  },
  {
   "cell_type": "code",
   "execution_count": 13,
   "metadata": {},
   "outputs": [
    {
     "name": "stdout",
     "output_type": "stream",
     "text": [
      "(78662, 9) (19666, 9)\n"
     ]
    }
   ],
   "source": [
    "from sklearn.model_selection import train_test_split\n",
    "train,test=train_test_split(fb1,test_size=0.2,random_state=0)\n",
    "print(train.shape,test.shape)"
   ]
  },
  {
   "cell_type": "code",
   "execution_count": 14,
   "metadata": {},
   "outputs": [
    {
     "data": {
      "text/plain": [
       "57.772494978515674"
      ]
     },
     "execution_count": 14,
     "metadata": {},
     "output_type": "execute_result"
    }
   ],
   "source": [
    "train[\"active_cust\"].value_counts()[1]/len(train)*100"
   ]
  },
  {
   "cell_type": "code",
   "execution_count": 16,
   "metadata": {},
   "outputs": [
    {
     "data": {
      "text/plain": [
       "57.82060408827417"
      ]
     },
     "execution_count": 16,
     "metadata": {},
     "output_type": "execute_result"
    }
   ],
   "source": [
    "test[\"active_cust\"].value_counts()[1]/len(test)*100"
   ]
  },
  {
   "cell_type": "code",
   "execution_count": 20,
   "metadata": {},
   "outputs": [],
   "source": [
    "x_train=train.drop(\"active_cust\",axis=1)\n",
    "y_train=train[\"active_cust\"]\n",
    "x_test=test.drop(\"active_cust\",axis=1)\n",
    "y_test=test[\"active_cust\"]"
   ]
  },
  {
   "cell_type": "code",
   "execution_count": 21,
   "metadata": {},
   "outputs": [
    {
     "name": "stderr",
     "output_type": "stream",
     "text": [
      "C:\\Anaconda3\\lib\\site-packages\\sklearn\\linear_model\\logistic.py:432: FutureWarning: Default solver will be changed to 'lbfgs' in 0.22. Specify a solver to silence this warning.\n",
      "  FutureWarning)\n"
     ]
    },
    {
     "data": {
      "text/plain": [
       "LogisticRegression(C=1.0, class_weight=None, dual=False, fit_intercept=True,\n",
       "                   intercept_scaling=1, l1_ratio=None, max_iter=100,\n",
       "                   multi_class='warn', n_jobs=None, penalty='l2',\n",
       "                   random_state=None, solver='warn', tol=0.0001, verbose=0,\n",
       "                   warm_start=False)"
      ]
     },
     "execution_count": 21,
     "metadata": {},
     "output_type": "execute_result"
    }
   ],
   "source": [
    "from sklearn.linear_model import LogisticRegression\n",
    "lg=LogisticRegression()\n",
    "lg.fit(x_train,y_train)"
   ]
  },
  {
   "cell_type": "markdown",
   "metadata": {},
   "source": [
    "#c-->alpha vlue-default value=1.c=1/alpha\n",
    "#intercept_scaling=1,first b0 value\n",
    "#l1_ratio==regularization Lasso(l1 regularization),not using regularization\n",
    "#penalty=l2---to overcome overfitting(Ridge)(l2 regul)\n",
    "#tolerance(converge point)\n",
    "#class_weight=none,not givin weights to b0,b1\n",
    "#mulri_class='warn'--binary dep,multiclass-multinomial\n",
    "#solver-(warn or libilinear) alpha=0.3,netwon paphson alpha-0.1,chebyan--0.2..default warn(libilinear)=0.3\n"
   ]
  },
  {
   "cell_type": "code",
   "execution_count": 23,
   "metadata": {},
   "outputs": [
    {
     "data": {
      "text/plain": [
       "Index(['active_cust', 'income', 'months_on_network', 'Num_complaints',\n",
       "       'number_plan_changes', 'relocated', 'monthly_bill',\n",
       "       'technical_issues_per_month', 'Speed_test_result'],\n",
       "      dtype='object')"
      ]
     },
     "execution_count": 23,
     "metadata": {},
     "output_type": "execute_result"
    }
   ],
   "source": [
    "#stats model\n",
    "train.columns"
   ]
  },
  {
   "cell_type": "code",
   "execution_count": 26,
   "metadata": {},
   "outputs": [
    {
     "name": "stdout",
     "output_type": "stream",
     "text": [
      "Optimization terminated successfully.\n",
      "         Current function value: 0.494581\n",
      "         Iterations 9\n"
     ]
    },
    {
     "data": {
      "text/html": [
       "<table class=\"simpletable\">\n",
       "<tr>\n",
       "        <td>Model:</td>              <td>Logit</td>      <td>Pseudo R-squared:</td>    <td>0.274</td>  \n",
       "</tr>\n",
       "<tr>\n",
       "  <td>Dependent Variable:</td>    <td>active_cust</td>         <td>AIC:</td>        <td>77827.4024</td>\n",
       "</tr>\n",
       "<tr>\n",
       "         <td>Date:</td>        <td>2019-12-14 11:00</td>       <td>BIC:</td>        <td>77910.8586</td>\n",
       "</tr>\n",
       "<tr>\n",
       "   <td>No. Observations:</td>        <td>78662</td>       <td>Log-Likelihood:</td>    <td>-38905.</td> \n",
       "</tr>\n",
       "<tr>\n",
       "       <td>Df Model:</td>              <td>8</td>            <td>LL-Null:</td>        <td>-53570.</td> \n",
       "</tr>\n",
       "<tr>\n",
       "     <td>Df Residuals:</td>          <td>78653</td>        <td>LLR p-value:</td>      <td>0.0000</td>  \n",
       "</tr>\n",
       "<tr>\n",
       "      <td>Converged:</td>           <td>1.0000</td>           <td>Scale:</td>         <td>1.0000</td>  \n",
       "</tr>\n",
       "<tr>\n",
       "    <td>No. Iterations:</td>        <td>9.0000</td>              <td></td>               <td></td>     \n",
       "</tr>\n",
       "</table>\n",
       "<table class=\"simpletable\">\n",
       "<tr>\n",
       "               <td></td>                <th>Coef.</th>  <th>Std.Err.</th>     <th>z</th>     <th>P>|z|</th>  <th>[0.025</th>   <th>0.975]</th> \n",
       "</tr>\n",
       "<tr>\n",
       "  <th>Intercept</th>                  <td>-17.5921</td>  <td>0.3358</td>  <td>-52.3863</td> <td>0.0000</td> <td>-18.2502</td> <td>-16.9339</td>\n",
       "</tr>\n",
       "<tr>\n",
       "  <th>income</th>                      <td>0.0016</td>   <td>0.0001</td>   <td>17.8788</td> <td>0.0000</td>  <td>0.0014</td>   <td>0.0018</td> \n",
       "</tr>\n",
       "<tr>\n",
       "  <th>months_on_network</th>           <td>0.0273</td>   <td>0.0011</td>   <td>24.6133</td> <td>0.0000</td>  <td>0.0251</td>   <td>0.0295</td> \n",
       "</tr>\n",
       "<tr>\n",
       "  <th>Num_complaints</th>              <td>-0.6567</td>  <td>0.0336</td>  <td>-19.5363</td> <td>0.0000</td>  <td>-0.7226</td>  <td>-0.5908</td>\n",
       "</tr>\n",
       "<tr>\n",
       "  <th>number_plan_changes</th>         <td>-0.2050</td>  <td>0.0086</td>  <td>-23.9689</td> <td>0.0000</td>  <td>-0.2217</td>  <td>-0.1882</td>\n",
       "</tr>\n",
       "<tr>\n",
       "  <th>relocated</th>                   <td>-3.1205</td>  <td>0.0442</td>  <td>-70.5240</td> <td>0.0000</td>  <td>-3.2072</td>  <td>-3.0338</td>\n",
       "</tr>\n",
       "<tr>\n",
       "  <th>monthly_bill</th>                <td>-0.0022</td>  <td>0.0002</td>  <td>-12.3882</td> <td>0.0000</td>  <td>-0.0025</td>  <td>-0.0018</td>\n",
       "</tr>\n",
       "<tr>\n",
       "  <th>technical_issues_per_month</th>  <td>-0.3795</td>  <td>0.0080</td>  <td>-47.4772</td> <td>0.0000</td>  <td>-0.3951</td>  <td>-0.3638</td>\n",
       "</tr>\n",
       "<tr>\n",
       "  <th>Speed_test_result</th>           <td>0.2232</td>   <td>0.0027</td>   <td>83.4846</td> <td>0.0000</td>  <td>0.2179</td>   <td>0.2284</td> \n",
       "</tr>\n",
       "</table>"
      ],
      "text/plain": [
       "<class 'statsmodels.iolib.summary2.Summary'>\n",
       "\"\"\"\n",
       "                                Results: Logit\n",
       "==============================================================================\n",
       "Model:                   Logit                Pseudo R-squared:     0.274     \n",
       "Dependent Variable:      active_cust          AIC:                  77827.4024\n",
       "Date:                    2019-12-14 11:00     BIC:                  77910.8586\n",
       "No. Observations:        78662                Log-Likelihood:       -38905.   \n",
       "Df Model:                8                    LL-Null:              -53570.   \n",
       "Df Residuals:            78653                LLR p-value:          0.0000    \n",
       "Converged:               1.0000               Scale:                1.0000    \n",
       "No. Iterations:          9.0000                                               \n",
       "------------------------------------------------------------------------------\n",
       "                            Coef.   Std.Err.    z     P>|z|   [0.025   0.975] \n",
       "------------------------------------------------------------------------------\n",
       "Intercept                  -17.5921   0.3358 -52.3863 0.0000 -18.2502 -16.9339\n",
       "income                       0.0016   0.0001  17.8788 0.0000   0.0014   0.0018\n",
       "months_on_network            0.0273   0.0011  24.6133 0.0000   0.0251   0.0295\n",
       "Num_complaints              -0.6567   0.0336 -19.5363 0.0000  -0.7226  -0.5908\n",
       "number_plan_changes         -0.2050   0.0086 -23.9689 0.0000  -0.2217  -0.1882\n",
       "relocated                   -3.1205   0.0442 -70.5240 0.0000  -3.2072  -3.0338\n",
       "monthly_bill                -0.0022   0.0002 -12.3882 0.0000  -0.0025  -0.0018\n",
       "technical_issues_per_month  -0.3795   0.0080 -47.4772 0.0000  -0.3951  -0.3638\n",
       "Speed_test_result            0.2232   0.0027  83.4846 0.0000   0.2179   0.2284\n",
       "==============================================================================\n",
       "\n",
       "\"\"\""
      ]
     },
     "execution_count": 26,
     "metadata": {},
     "output_type": "execute_result"
    }
   ],
   "source": [
    "import statsmodels.formula.api as sm\n",
    "model=sm.logit(formula=\"active_cust~income+months_on_network+Num_complaints+number_plan_changes+relocated+monthly_bill+technical_issues_per_month+Speed_test_result\",data=train).fit()\n",
    "model.summary2()"
   ]
  },
  {
   "cell_type": "markdown",
   "metadata": {},
   "source": [
    "#sign test-inversely proportional to the Busines object(+ve means less chances to leave the n/w,-Ve means more chances to leavethe n/w)\n",
    "-->If the sign is +ve means more the value indicates less the % of leaving the N/W(bussiness obj)\n",
    "-->if the sign is -ve means less the value indicates more the % to leave the N/W(businnes obj)\n",
    "sign test-opposite -inversely proportional\n",
    "Based on the sign of the coef of variables we can predict whether the customer is going to leave the n/w\n",
    "#+ means less,- means high\n",
    "#if relocated is -ve means the less reclocations,less chances to leave the n/w\n",
    "#if more months_in_n/w less chances to leave the n/w\n",
    "\n",
    "#based on sign also we can drop the variables..if speed test is -ve,if more the spee test ,customers leave the n/w--wrong result\n",
    "Due to collianarity or data is not proper,we may get chances of wrong results,then we can drop that var"
   ]
  },
  {
   "cell_type": "code",
   "execution_count": 27,
   "metadata": {},
   "outputs": [],
   "source": [
    "#Drawbacks of Logistic Regression\n",
    "emp=pd.read_csv(r\"C:\\Users\\kalyan\\Desktop\\Usha_DataScience\\Data sets\\Emp_Productivity.csv\")"
   ]
  },
  {
   "cell_type": "code",
   "execution_count": 28,
   "metadata": {},
   "outputs": [
    {
     "data": {
      "text/html": [
       "<div>\n",
       "<style scoped>\n",
       "    .dataframe tbody tr th:only-of-type {\n",
       "        vertical-align: middle;\n",
       "    }\n",
       "\n",
       "    .dataframe tbody tr th {\n",
       "        vertical-align: top;\n",
       "    }\n",
       "\n",
       "    .dataframe thead th {\n",
       "        text-align: right;\n",
       "    }\n",
       "</style>\n",
       "<table border=\"1\" class=\"dataframe\">\n",
       "  <thead>\n",
       "    <tr style=\"text-align: right;\">\n",
       "      <th></th>\n",
       "      <th>Age</th>\n",
       "      <th>Experience</th>\n",
       "      <th>Productivity</th>\n",
       "      <th>Sample_Set</th>\n",
       "    </tr>\n",
       "  </thead>\n",
       "  <tbody>\n",
       "    <tr>\n",
       "      <th>0</th>\n",
       "      <td>20.0</td>\n",
       "      <td>2.3</td>\n",
       "      <td>0</td>\n",
       "      <td>1</td>\n",
       "    </tr>\n",
       "    <tr>\n",
       "      <th>1</th>\n",
       "      <td>16.2</td>\n",
       "      <td>2.2</td>\n",
       "      <td>0</td>\n",
       "      <td>1</td>\n",
       "    </tr>\n",
       "    <tr>\n",
       "      <th>2</th>\n",
       "      <td>20.2</td>\n",
       "      <td>1.8</td>\n",
       "      <td>0</td>\n",
       "      <td>1</td>\n",
       "    </tr>\n",
       "    <tr>\n",
       "      <th>3</th>\n",
       "      <td>18.8</td>\n",
       "      <td>1.4</td>\n",
       "      <td>0</td>\n",
       "      <td>1</td>\n",
       "    </tr>\n",
       "    <tr>\n",
       "      <th>4</th>\n",
       "      <td>18.9</td>\n",
       "      <td>3.2</td>\n",
       "      <td>0</td>\n",
       "      <td>1</td>\n",
       "    </tr>\n",
       "  </tbody>\n",
       "</table>\n",
       "</div>"
      ],
      "text/plain": [
       "    Age  Experience  Productivity  Sample_Set\n",
       "0  20.0         2.3             0           1\n",
       "1  16.2         2.2             0           1\n",
       "2  20.2         1.8             0           1\n",
       "3  18.8         1.4             0           1\n",
       "4  18.9         3.2             0           1"
      ]
     },
     "execution_count": 28,
     "metadata": {},
     "output_type": "execute_result"
    }
   ],
   "source": [
    "emp.head()"
   ]
  },
  {
   "cell_type": "code",
   "execution_count": 29,
   "metadata": {},
   "outputs": [
    {
     "data": {
      "text/plain": [
       "Index(['Age', 'Experience', 'Productivity', 'Sample_Set'], dtype='object')"
      ]
     },
     "execution_count": 29,
     "metadata": {},
     "output_type": "execute_result"
    }
   ],
   "source": [
    "emp.columns"
   ]
  },
  {
   "cell_type": "code",
   "execution_count": 30,
   "metadata": {},
   "outputs": [
    {
     "data": {
      "text/plain": [
       "(119, 4)"
      ]
     },
     "execution_count": 30,
     "metadata": {},
     "output_type": "execute_result"
    }
   ],
   "source": [
    "emp.shape"
   ]
  },
  {
   "cell_type": "code",
   "execution_count": 34,
   "metadata": {},
   "outputs": [
    {
     "data": {
      "text/plain": [
       "(74, 4)"
      ]
     },
     "execution_count": 34,
     "metadata": {},
     "output_type": "execute_result"
    }
   ],
   "source": [
    "emp1=emp[emp.Sample_Set<3]\n",
    "emp1.shape\n"
   ]
  },
  {
   "cell_type": "code",
   "execution_count": null,
   "metadata": {},
   "outputs": [],
   "source": [
    "fig=plt.figure()\n",
    "ax1=fig.add_subplot(111)\n",
    "ax1.scatter(emp1.Age[emp1.Productivity==0],emp1)"
   ]
  }
 ],
 "metadata": {
  "kernelspec": {
   "display_name": "Python 3",
   "language": "python",
   "name": "python3"
  },
  "language_info": {
   "codemirror_mode": {
    "name": "ipython",
    "version": 3
   },
   "file_extension": ".py",
   "mimetype": "text/x-python",
   "name": "python",
   "nbconvert_exporter": "python",
   "pygments_lexer": "ipython3",
   "version": "3.8.5"
  }
 },
 "nbformat": 4,
 "nbformat_minor": 2
}
